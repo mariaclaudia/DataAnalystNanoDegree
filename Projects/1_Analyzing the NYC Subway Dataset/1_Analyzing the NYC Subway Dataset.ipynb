{
 "metadata": {
  "name": "",
  "signature": "sha256:d35d1ea353378f273a90af2feff875ff26ca4e2c80840478fe5ed3091dffd1dd"
 },
 "nbformat": 3,
 "nbformat_minor": 0,
 "worksheets": [
  {
   "cells": [
    {
     "cell_type": "heading",
     "level": 1,
     "metadata": {},
     "source": [
      "Udacity Data Analyst Nanodegree "
     ]
    },
    {
     "cell_type": "heading",
     "level": 2,
     "metadata": {},
     "source": [
      " Project 1: Analyzing the NYC Subway Dataset"
     ]
    },
    {
     "cell_type": "heading",
     "level": 3,
     "metadata": {},
     "source": [
      "Author: \n",
      "    "
     ]
    },
    {
     "cell_type": "markdown",
     "metadata": {},
     "source": [
      "[Maria Claudia Bodino](https://de.linkedin.com/in/mariaclaudiabodino/) \n"
     ]
    },
    {
     "cell_type": "heading",
     "level": 3,
     "metadata": {},
     "source": [
      "Project Overview:"
     ]
    },
    {
     "cell_type": "markdown",
     "metadata": {},
     "source": [
      "In this project, I look at the NYC Subway data (weather & subway) and I would like to figure out which factors (rain, weekday, and what not) influence the subway usage.\n",
      "\n",
      "I will wrangle the NYC subway data, use statistical methods and data visualization to draw an interesting conclusion about the subway dataset that I've analyzed.\n",
      "\n",
      "Prepared for this project with: \n",
      "\n",
      "MOOCs:\n",
      "* [Intro to Data Science](https://www.udacity.com/course/ud359) (Udacity)\n",
      "* [Intro to Descriptive Statistics](https://www.udacity.com/course/ud827) (Udacity)\n",
      "* [Intro to Inferential Statistics](https://www.udacity.com/course/ud201) (Udacity)\n",
      "* [MITx: 6.00.1x Introduction to Computer Science and Programming Using Python](https://www.edx.org/course/introduction-computer-science-mitx-6-00-1x-0#.VPJFGUIRQfs) (Edx) -  I'm a newbie in Python\n",
      "\n"
     ]
    },
    {
     "cell_type": "heading",
     "level": 3,
     "metadata": {},
     "source": [
      "Data set:"
     ]
    },
    {
     "cell_type": "markdown",
     "metadata": {},
     "source": [
      "The data set used in the project is the improved dataset provided by Udacity. \n",
      "\n",
      "It contains the NYC Subway data joined with the daily weather data obtained from the Weather Underground, performed with some basic cleaning, transformations and filtering.\n",
      "\n",
      "The data set and the description of the data are shared by Udacity and also available in this repo (folder: dataset)\n",
      "\n",
      "[Link to the Data set and fields description](https://www.dropbox.com/s/1lpoeh2w6px4diu/improved-dataset.zip?dl=0)"
     ]
    },
    {
     "cell_type": "heading",
     "level": 4,
     "metadata": {},
     "source": [
      "Turnstile and Weather Variables"
     ]
    },
    {
     "cell_type": "markdown",
     "metadata": {},
     "source": [
      "**UNIT** Remote unit that collects turnstile information. Can collect from multiple banks of turnstiles. Large subway stations can have more than one unit.\n",
      "\n",
      "**DATEn** Date in \u201cyyyy\u00admm\u00addd\u201d (2011\u00ad05\u00ad21) format.\n",
      "\n",
      "**TIMEn** Time in \u201chh:mm:ss\u201d (08:05:02) format.\n",
      "\n",
      "**ENTRIESn** Raw reading of cummulative turnstile entries from the remote unit. Occasionally resets to 0.\n",
      "\n",
      "**EXITSn** Raw reading of cummulative turnstile exits from the remote unit. Occasionally resets to 0.\n",
      "\n",
      "**ENTRIESn_hourly** Difference in ENTRIES from the previous REGULAR reading.\n",
      "\n",
      "**EXITSn_hourly** Difference in EXITS from the previous REGULAR reading.\n",
      "\n",
      "**datetime** Date and time in \u201cyyyy\u00admm\u00addd hh:mm:ss\u201d format (2011\u00ad05\u00ad01 00:00:00). Can be parsed into a Pandas datetime object \n",
      "without modifications.\n",
      "\n",
      "**hour** Hour of the timestamp from TIMEn. Truncated rather than rounded.\n",
      "\n",
      "**day_week** Integer (0 \u00ad 6 Mon \u00ad Sun) corresponding to the day of the week.\n",
      "\n",
      "**weekday** Indicator (0 or 1) if the date is a weekday (Mon \u00ad Fri).\n",
      "\n",
      "**station** Subway station corresponding to the remote unit.\n",
      "\n",
      "**latitude** Latitude of the subway station corresponding to the remote unit.\n",
      "\n",
      "**longitude** Longitude of the subway station corresponding to the remote unit.\n",
      "\n",
      "**conds** Categorical variable of the weather conditions (Clear, Cloudy etc.) for the time and location.\n",
      "\n",
      "**fog** Indicator (0 or 1) if there was fog at the time and location.\n",
      "\n",
      "**precipi** Precipitation in inches at the time and location.\n",
      "\n",
      "**pressurei** Barometric pressure in inches Hg at the time and location.\n",
      "\n",
      "**rain** Indicator (0 or 1) if rain occurred within the calendar day at the location.\n",
      "\n",
      "**tempi** Temperature in \u00b0F at the time and location.\n",
      "\n",
      "**wspdi** Wind speed in mph at the time and location.\n",
      "\n",
      "**meanprecipi** Daily average of precipi for the location.\n",
      "\n",
      "**meanpressurei** Daily average of pressurei for the location.\n",
      "\n",
      "**meantempi** Daily average of tempi for the location.\n",
      "\n",
      "**meanwspdi** Daily average of wspdi for the location.\n",
      "\n",
      "**weather_lat** Latitude of the weather station the weather data is from.\n",
      "\n",
      "**weather_lon** Longitude of the weather station the weather data is from."
     ]
    },
    {
     "cell_type": "heading",
     "level": 3,
     "metadata": {},
     "source": [
      "Section 0. Set up "
     ]
    },
    {
     "cell_type": "heading",
     "level": 4,
     "metadata": {},
     "source": [
      "Import Packages"
     ]
    },
    {
     "cell_type": "code",
     "collapsed": false,
     "input": [
      "from ggplot import *\n",
      "import pandas as pd\n",
      "import numpy as np\n",
      "import scipy.stats as ss\n",
      "import statsmodels.api as sm\n",
      "import matplotlib.pyplot as plt"
     ],
     "language": "python",
     "metadata": {},
     "outputs": [],
     "prompt_number": 211
    },
    {
     "cell_type": "code",
     "collapsed": false,
     "input": [
      "%matplotlib inline"
     ],
     "language": "python",
     "metadata": {},
     "outputs": [],
     "prompt_number": 7
    },
    {
     "cell_type": "markdown",
     "metadata": {},
     "source": [
      "Populating the interactive namespace from numpy and matplotlib"
     ]
    },
    {
     "cell_type": "code",
     "collapsed": false,
     "input": [
      "%pylab inline"
     ],
     "language": "python",
     "metadata": {},
     "outputs": [
      {
       "output_type": "stream",
       "stream": "stdout",
       "text": [
        "Populating the interactive namespace from numpy and matplotlib\n"
       ]
      },
      {
       "output_type": "stream",
       "stream": "stderr",
       "text": [
        "WARNING: pylab import has clobbered these variables: ['xlim', 'plot', 'ylim']\n",
        "`%matplotlib` prevents importing * from pylab and numpy\n"
       ]
      }
     ],
     "prompt_number": 237
    },
    {
     "cell_type": "heading",
     "level": 4,
     "metadata": {},
     "source": [
      "Import Data"
     ]
    },
    {
     "cell_type": "code",
     "collapsed": false,
     "input": [
      "df = pd.read_csv('./Dataset/turnstile_weather_v2.csv')"
     ],
     "language": "python",
     "metadata": {},
     "outputs": [],
     "prompt_number": 8
    },
    {
     "cell_type": "heading",
     "level": 4,
     "metadata": {},
     "source": [
      "Exploring Data"
     ]
    },
    {
     "cell_type": "code",
     "collapsed": false,
     "input": [
      "df.describe()"
     ],
     "language": "python",
     "metadata": {},
     "outputs": [
      {
       "html": [
        "<div style=\"max-height:1000px;max-width:1500px;overflow:auto;\">\n",
        "<table border=\"1\" class=\"dataframe\">\n",
        "  <thead>\n",
        "    <tr style=\"text-align: right;\">\n",
        "      <th></th>\n",
        "      <th>ENTRIESn</th>\n",
        "      <th>EXITSn</th>\n",
        "      <th>ENTRIESn_hourly</th>\n",
        "      <th>EXITSn_hourly</th>\n",
        "      <th>hour</th>\n",
        "      <th>day_week</th>\n",
        "      <th>weekday</th>\n",
        "      <th>latitude</th>\n",
        "      <th>longitude</th>\n",
        "      <th>fog</th>\n",
        "      <th>precipi</th>\n",
        "      <th>pressurei</th>\n",
        "      <th>rain</th>\n",
        "      <th>tempi</th>\n",
        "      <th>wspdi</th>\n",
        "      <th>meanprecipi</th>\n",
        "      <th>meanpressurei</th>\n",
        "      <th>meantempi</th>\n",
        "      <th>meanwspdi</th>\n",
        "      <th>weather_lat</th>\n",
        "      <th>weather_lon</th>\n",
        "    </tr>\n",
        "  </thead>\n",
        "  <tbody>\n",
        "    <tr>\n",
        "      <th>count</th>\n",
        "      <td> 4.264900e+04</td>\n",
        "      <td> 4.264900e+04</td>\n",
        "      <td> 42649.000000</td>\n",
        "      <td> 42649.000000</td>\n",
        "      <td> 42649.000000</td>\n",
        "      <td> 42649.000000</td>\n",
        "      <td> 42649.000000</td>\n",
        "      <td> 42649.000000</td>\n",
        "      <td> 42649.000000</td>\n",
        "      <td> 42649.000000</td>\n",
        "      <td> 42649.000000</td>\n",
        "      <td> 42649.000000</td>\n",
        "      <td> 42649.000000</td>\n",
        "      <td> 42649.000000</td>\n",
        "      <td> 42649.000000</td>\n",
        "      <td> 42649.000000</td>\n",
        "      <td> 42649.000000</td>\n",
        "      <td> 42649.000000</td>\n",
        "      <td> 42649.000000</td>\n",
        "      <td> 42649.000000</td>\n",
        "      <td> 42649.000000</td>\n",
        "    </tr>\n",
        "    <tr>\n",
        "      <th>mean</th>\n",
        "      <td> 2.812486e+07</td>\n",
        "      <td> 1.986993e+07</td>\n",
        "      <td>  1886.589955</td>\n",
        "      <td>  1361.487866</td>\n",
        "      <td>    10.046754</td>\n",
        "      <td>     2.905719</td>\n",
        "      <td>     0.714436</td>\n",
        "      <td>    40.724647</td>\n",
        "      <td>   -73.940364</td>\n",
        "      <td>     0.009824</td>\n",
        "      <td>     0.004618</td>\n",
        "      <td>    29.971096</td>\n",
        "      <td>     0.224741</td>\n",
        "      <td>    63.103780</td>\n",
        "      <td>     6.927872</td>\n",
        "      <td>     0.004618</td>\n",
        "      <td>    29.971096</td>\n",
        "      <td>    63.103780</td>\n",
        "      <td>     6.927872</td>\n",
        "      <td>    40.728555</td>\n",
        "      <td>   -73.938693</td>\n",
        "    </tr>\n",
        "    <tr>\n",
        "      <th>std</th>\n",
        "      <td> 3.043607e+07</td>\n",
        "      <td> 2.028986e+07</td>\n",
        "      <td>  2952.385585</td>\n",
        "      <td>  2183.845409</td>\n",
        "      <td>     6.938928</td>\n",
        "      <td>     2.079231</td>\n",
        "      <td>     0.451688</td>\n",
        "      <td>     0.071650</td>\n",
        "      <td>     0.059713</td>\n",
        "      <td>     0.098631</td>\n",
        "      <td>     0.025832</td>\n",
        "      <td>     0.137942</td>\n",
        "      <td>     0.417417</td>\n",
        "      <td>     8.455597</td>\n",
        "      <td>     4.510178</td>\n",
        "      <td>     0.016344</td>\n",
        "      <td>     0.131158</td>\n",
        "      <td>     6.939011</td>\n",
        "      <td>     3.179832</td>\n",
        "      <td>     0.065420</td>\n",
        "      <td>     0.059582</td>\n",
        "    </tr>\n",
        "    <tr>\n",
        "      <th>min</th>\n",
        "      <td> 0.000000e+00</td>\n",
        "      <td> 0.000000e+00</td>\n",
        "      <td>     0.000000</td>\n",
        "      <td>     0.000000</td>\n",
        "      <td>     0.000000</td>\n",
        "      <td>     0.000000</td>\n",
        "      <td>     0.000000</td>\n",
        "      <td>    40.576152</td>\n",
        "      <td>   -74.073622</td>\n",
        "      <td>     0.000000</td>\n",
        "      <td>     0.000000</td>\n",
        "      <td>    29.550000</td>\n",
        "      <td>     0.000000</td>\n",
        "      <td>    46.900000</td>\n",
        "      <td>     0.000000</td>\n",
        "      <td>     0.000000</td>\n",
        "      <td>    29.590000</td>\n",
        "      <td>    49.400000</td>\n",
        "      <td>     0.000000</td>\n",
        "      <td>    40.600204</td>\n",
        "      <td>   -74.014870</td>\n",
        "    </tr>\n",
        "    <tr>\n",
        "      <th>25%</th>\n",
        "      <td> 1.039762e+07</td>\n",
        "      <td> 7.613712e+06</td>\n",
        "      <td>   274.000000</td>\n",
        "      <td>   237.000000</td>\n",
        "      <td>     4.000000</td>\n",
        "      <td>     1.000000</td>\n",
        "      <td>     0.000000</td>\n",
        "      <td>    40.677107</td>\n",
        "      <td>   -73.987342</td>\n",
        "      <td>     0.000000</td>\n",
        "      <td>     0.000000</td>\n",
        "      <td>    29.890000</td>\n",
        "      <td>     0.000000</td>\n",
        "      <td>    57.000000</td>\n",
        "      <td>     4.600000</td>\n",
        "      <td>     0.000000</td>\n",
        "      <td>    29.913333</td>\n",
        "      <td>    58.283333</td>\n",
        "      <td>     4.816667</td>\n",
        "      <td>    40.688591</td>\n",
        "      <td>   -73.985130</td>\n",
        "    </tr>\n",
        "    <tr>\n",
        "      <th>50%</th>\n",
        "      <td> 1.818389e+07</td>\n",
        "      <td> 1.331609e+07</td>\n",
        "      <td>   905.000000</td>\n",
        "      <td>   664.000000</td>\n",
        "      <td>    12.000000</td>\n",
        "      <td>     3.000000</td>\n",
        "      <td>     1.000000</td>\n",
        "      <td>    40.717241</td>\n",
        "      <td>   -73.953459</td>\n",
        "      <td>     0.000000</td>\n",
        "      <td>     0.000000</td>\n",
        "      <td>    29.960000</td>\n",
        "      <td>     0.000000</td>\n",
        "      <td>    61.000000</td>\n",
        "      <td>     6.900000</td>\n",
        "      <td>     0.000000</td>\n",
        "      <td>    29.958000</td>\n",
        "      <td>    60.950000</td>\n",
        "      <td>     6.166667</td>\n",
        "      <td>    40.720570</td>\n",
        "      <td>   -73.949150</td>\n",
        "    </tr>\n",
        "    <tr>\n",
        "      <th>75%</th>\n",
        "      <td> 3.263049e+07</td>\n",
        "      <td> 2.393771e+07</td>\n",
        "      <td>  2255.000000</td>\n",
        "      <td>  1537.000000</td>\n",
        "      <td>    16.000000</td>\n",
        "      <td>     5.000000</td>\n",
        "      <td>     1.000000</td>\n",
        "      <td>    40.759123</td>\n",
        "      <td>   -73.907733</td>\n",
        "      <td>     0.000000</td>\n",
        "      <td>     0.000000</td>\n",
        "      <td>    30.060000</td>\n",
        "      <td>     0.000000</td>\n",
        "      <td>    69.100000</td>\n",
        "      <td>     9.200000</td>\n",
        "      <td>     0.000000</td>\n",
        "      <td>    30.060000</td>\n",
        "      <td>    67.466667</td>\n",
        "      <td>     8.850000</td>\n",
        "      <td>    40.755226</td>\n",
        "      <td>   -73.912033</td>\n",
        "    </tr>\n",
        "    <tr>\n",
        "      <th>max</th>\n",
        "      <td> 2.357746e+08</td>\n",
        "      <td> 1.493782e+08</td>\n",
        "      <td> 32814.000000</td>\n",
        "      <td> 34828.000000</td>\n",
        "      <td>    20.000000</td>\n",
        "      <td>     6.000000</td>\n",
        "      <td>     1.000000</td>\n",
        "      <td>    40.889185</td>\n",
        "      <td>   -73.755383</td>\n",
        "      <td>     1.000000</td>\n",
        "      <td>     0.300000</td>\n",
        "      <td>    30.320000</td>\n",
        "      <td>     1.000000</td>\n",
        "      <td>    86.000000</td>\n",
        "      <td>    23.000000</td>\n",
        "      <td>     0.157500</td>\n",
        "      <td>    30.293333</td>\n",
        "      <td>    79.800000</td>\n",
        "      <td>    17.083333</td>\n",
        "      <td>    40.862064</td>\n",
        "      <td>   -73.694176</td>\n",
        "    </tr>\n",
        "  </tbody>\n",
        "</table>\n",
        "</div>"
       ],
       "metadata": {},
       "output_type": "pyout",
       "prompt_number": 10,
       "text": [
        "           ENTRIESn        EXITSn  ENTRIESn_hourly  EXITSn_hourly          hour      day_week       weekday      latitude     longitude           fog       precipi     pressurei          rain         tempi         wspdi   meanprecipi  meanpressurei     meantempi     meanwspdi   weather_lat   weather_lon\n",
        "count  4.264900e+04  4.264900e+04     42649.000000   42649.000000  42649.000000  42649.000000  42649.000000  42649.000000  42649.000000  42649.000000  42649.000000  42649.000000  42649.000000  42649.000000  42649.000000  42649.000000   42649.000000  42649.000000  42649.000000  42649.000000  42649.000000\n",
        "mean   2.812486e+07  1.986993e+07      1886.589955    1361.487866     10.046754      2.905719      0.714436     40.724647    -73.940364      0.009824      0.004618     29.971096      0.224741     63.103780      6.927872      0.004618      29.971096     63.103780      6.927872     40.728555    -73.938693\n",
        "std    3.043607e+07  2.028986e+07      2952.385585    2183.845409      6.938928      2.079231      0.451688      0.071650      0.059713      0.098631      0.025832      0.137942      0.417417      8.455597      4.510178      0.016344       0.131158      6.939011      3.179832      0.065420      0.059582\n",
        "min    0.000000e+00  0.000000e+00         0.000000       0.000000      0.000000      0.000000      0.000000     40.576152    -74.073622      0.000000      0.000000     29.550000      0.000000     46.900000      0.000000      0.000000      29.590000     49.400000      0.000000     40.600204    -74.014870\n",
        "25%    1.039762e+07  7.613712e+06       274.000000     237.000000      4.000000      1.000000      0.000000     40.677107    -73.987342      0.000000      0.000000     29.890000      0.000000     57.000000      4.600000      0.000000      29.913333     58.283333      4.816667     40.688591    -73.985130\n",
        "50%    1.818389e+07  1.331609e+07       905.000000     664.000000     12.000000      3.000000      1.000000     40.717241    -73.953459      0.000000      0.000000     29.960000      0.000000     61.000000      6.900000      0.000000      29.958000     60.950000      6.166667     40.720570    -73.949150\n",
        "75%    3.263049e+07  2.393771e+07      2255.000000    1537.000000     16.000000      5.000000      1.000000     40.759123    -73.907733      0.000000      0.000000     30.060000      0.000000     69.100000      9.200000      0.000000      30.060000     67.466667      8.850000     40.755226    -73.912033\n",
        "max    2.357746e+08  1.493782e+08     32814.000000   34828.000000     20.000000      6.000000      1.000000     40.889185    -73.755383      1.000000      0.300000     30.320000      1.000000     86.000000     23.000000      0.157500      30.293333     79.800000     17.083333     40.862064    -73.694176"
       ]
      }
     ],
     "prompt_number": 10
    },
    {
     "cell_type": "code",
     "collapsed": false,
     "input": [
      "#min date in the dataset\n",
      "min_date= df['DATEn'].min()\n",
      "#max date in the dataset\n",
      "max_date= df['DATEn'].max()\n",
      "\"The dataset covers data from %s to %s\" %(min_date,max_date) \n"
     ],
     "language": "python",
     "metadata": {},
     "outputs": [
      {
       "metadata": {},
       "output_type": "pyout",
       "prompt_number": 57,
       "text": [
        "'The dataset covers data from 05-01-11 to 05-31-11'"
       ]
      }
     ],
     "prompt_number": 57
    },
    {
     "cell_type": "markdown",
     "metadata": {},
     "source": [
      "The dataset covers data from 05-01-11 to 05-31-11.\n",
      "\n",
      "It provides data only from May 2011. We have to keep in mind that the time-frame is just one month, it's ok to practise but not enough to make a complete analysis (different weather conditions, seasonality, public holidays, events... )"
     ]
    },
    {
     "cell_type": "heading",
     "level": 2,
     "metadata": {},
     "source": [
      "Is the average NYC Subway Ridership statistically different on rainy days vs non-rainy days?"
     ]
    },
    {
     "cell_type": "code",
     "collapsed": false,
     "input": [
      "rain= df[df.rain == 1]\n",
      "no_rain= df[df.rain == 0]\n",
      "\n",
      "#PLOT\n",
      "plt.figure(figsize = (10,5))\n",
      "plt.xlabel('ENTRIESn_hourly', fontsize=14)\n",
      "plt.ylabel('Frequency', fontsize=14)\n",
      "\n",
      "plt.title('ENTRIESn_hourly distribution for Rainy/No Rainy days',fontsize=18)\n",
      "plt.hist(rain['ENTRIESn_hourly'].values,bins=50,alpha=0.5,label='Rainy')\n",
      "plt.hist(no_rain['ENTRIESn_hourly'].values,bins=50,alpha=0.5,label='No Rainy')\n",
      "#The x-axis in this example image has been truncated at 6,000 cutting off outliers in the long tail which extends beyond 50,000.\n",
      "plt.xlim(0,10000)\n",
      "    \n",
      "plt.legend()"
     ],
     "language": "python",
     "metadata": {},
     "outputs": [
      {
       "metadata": {},
       "output_type": "pyout",
       "prompt_number": 207,
       "text": [
        "<matplotlib.legend.Legend at 0x1161e10d0>"
       ]
      },
      {
       "metadata": {},
       "output_type": "display_data",
       "png": "[encoded data removed]",
       "text": [
        "<matplotlib.figure.Figure at 0x116042ad0>"
       ]
      }
     ],
     "prompt_number": 207
    },
    {
     "cell_type": "code",
     "collapsed": false,
     "input": [],
     "language": "python",
     "metadata": {},
     "outputs": []
    },
    {
     "cell_type": "heading",
     "level": 3,
     "metadata": {},
     "source": [
      "Section 1. Statistical Test"
     ]
    },
    {
     "cell_type": "heading",
     "level": 4,
     "metadata": {},
     "source": [
      "1.1 Which statistical test did you use to analyze the NYC subway data? \n",
      "\n"
     ]
    },
    {
     "cell_type": "heading",
     "level": 4,
     "metadata": {},
     "source": [
      "Did you use a one-tail or a two-tail P value? \n",
      "\n",
      "\n"
     ]
    },
    {
     "cell_type": "heading",
     "level": 4,
     "metadata": {},
     "source": [
      "What is the null hypothesis? What is your p-critical value? "
     ]
    },
    {
     "cell_type": "heading",
     "level": 4,
     "metadata": {},
     "source": [
      "1.2 Why is this statistical test applicable to the dataset? \n"
     ]
    },
    {
     "cell_type": "heading",
     "level": 4,
     "metadata": {},
     "source": [
      "In particular, consider the assumptions that the test is making about the distribution of ridership in the two samples."
     ]
    },
    {
     "cell_type": "markdown",
     "metadata": {},
     "source": [
      "From the chart below we can see that the two distributions (rainy and non-rainy days) are not normally distributed but because there is a long tail in the positive direction on the number line, the distribution is said to be **positively skewed** (right-skewed distribution).\n",
      "\n",
      "It's NOT possible to run **Welch's T-Test** on entry data because they are not normally distributed.\n",
      "\n",
      "From Wikipedia: in statistics, Welch's t-test (or Welch-Aspin Test) is a two-sample location test, and is used to check the hypothesis that two populations have equal means. Welch's t-test is an adaptation of Student's t-test, and is intended for use when the two samples have possibly unequal variances.[1] These tests are often referred to as \"unpaired\" or \"independent samples\" t-tests, as they are typically applied when the statistical units underlying the two samples being compared are non-overlapping.\n",
      "\n",
      "Instead we used the **Mann-Whitney U test** to compare the means of rainy and non rainy days because the distributions are not normally distributed.\n",
      "\n",
      "From Wikipedia: In statistics, the Mann\u2013Whitney U test (also called the Mann\u2013Whitney\u2013Wilcoxon (MWW), Wilcoxon rank-sum test (WRS), or Wilcoxon\u2013Mann\u2013Whitney test) is a nonparametric test of the null hypothesis that two populations are the same against an alternative hypothesis, especially that a particular population tends to have larger values than the other. It has greater efficiency than the t-test on non-normal distributions, such as a mixture of normal distributions, and it is nearly as efficient as the t-test on normal distributions.\n",
      "\n",
      "I used a two-tail test because we were testing for the possibility of the relationship in both directions (the null hypothesis is \u201cThe ridership in rainy and non-rainy days are the same)\n",
      "\n",
      "**Null Hypothesis**:  The ridership in rainy and non-rainy days are the same\n",
      "For the Mann-Whitney test the null hypothesis is that the distributions of both groups are identical, so that there is a 50% probability that an observation from a value randomly selected from one population exceeds an observation randomly selected from the other population\n",
      "In our case ridership on rainy and non-rainy days should have the same distribution. The two populations are the same. There is no statistically significant difference in rainy and non rainy days distributions.\n",
      "\n",
      "\n",
      "**Alternative Hypothesis:** There is a statistically significant difference in average ridership on rainy vs non-rainy days.\n",
      "\n",
      "\n"
     ]
    },
    {
     "cell_type": "heading",
     "level": 4,
     "metadata": {},
     "source": [
      "Mann-Whitney U-Test"
     ]
    },
    {
     "cell_type": "markdown",
     "metadata": {},
     "source": [
      "Below are displayed:\n",
      "\n",
      "1) the mean of entries with rain\n",
      "\n",
      "2) the mean of entries without rain\n",
      "\n",
      "3) the Mann-Whitney U-statistic and p-value comparing the number of entries with rain and the number of entries without rain\n",
      "Here are the functions' documentation:\n",
      "\n",
      "    http://docs.scipy.org/doc/scipy/reference/generated/scipy.stats.mannwhitneyu.html\n",
      "    http://docs.scipy.org/doc/numpy/reference/generated/numpy.mean.html"
     ]
    },
    {
     "cell_type": "code",
     "collapsed": false,
     "input": [
      "with_rain_mean= np.mean(rain.ENTRIESn_hourly)\n",
      "without_rain_mean = np.mean(no_rain.ENTRIESn_hourly)\n",
      "U, p =  ss.stats.mannwhitneyu(rain.ENTRIESn_hourly, no_rain.ENTRIESn_hourly) \n",
      "\n",
      "print \"Mean with rain: {}\\n\".format(with_rain_mean)\n",
      "print \"Mean without rain: {}\\n\".format(without_rain_mean)\n",
      "print \"U-statistic: {}\\n\".format(U)\n",
      "print \"p-value: {}\\n\".format(p)\n",
      "\n",
      "if p <.05:\n",
      "        print  'We can reject the null hypothesis! There is a statistically significant difference in average ridership on rainy vs non-rainy days'\n",
      "else:\n",
      "        print  'The ridership in rainy and non-rainy days are the same'"
     ],
     "language": "python",
     "metadata": {},
     "outputs": [
      {
       "output_type": "stream",
       "stream": "stdout",
       "text": [
        "153635120.5\n",
        "2.74106957124e-06\n",
        "Mean with rain: 2028.19603547\n",
        "\n",
        "Mean without rain: 1845.53943866\n",
        "\n",
        "U-statistic: 153635120.5\n",
        "\n",
        "p-value: 2.74106957124e-06\n",
        "\n",
        "We can reject the null hypothesis! There is a statistically significant difference in average ridership on rainy vs non-rainy days\n"
       ]
      }
     ],
     "prompt_number": 67
    },
    {
     "cell_type": "heading",
     "level": 3,
     "metadata": {},
     "source": [
      "Section 2. Linear Regression"
     ]
    },
    {
     "cell_type": "heading",
     "level": 3,
     "metadata": {},
     "source": [
      "Let's predict the ridership of the NYC subway using linear regression with gradient descent"
     ]
    },
    {
     "cell_type": "heading",
     "level": 4,
     "metadata": {},
     "source": [
      "2.1 What approach did you use to compute the coefficients theta and produce prediction for ENTRIESn_hourly in your regression model:\n",
      "Gradient descent (as implemented in exercise 3.5) or OLS using Statsmodels Or something different?\n"
     ]
    },
    {
     "cell_type": "markdown",
     "metadata": {},
     "source": [
      "In this part I used the approach of the Gradient descent as implemented in exercise 3.5.\n",
      "\n",
      "Gradient Descent algorithm is one of the methods used in linear regression to find the minimum of the error or cost function. \n"
     ]
    },
    {
     "cell_type": "heading",
     "level": 4,
     "metadata": {},
     "source": [
      "2.2 What features (input variables) did you use in your model? Did you use any dummy variables as part of your features?\n"
     ]
    },
    {
     "cell_type": "markdown",
     "metadata": {},
     "source": [
      "Features:\n",
      "Rain, precipi, hour, meantempi, fog, weekday and day_week\n",
      "Unit as a dummy variable \n"
     ]
    },
    {
     "cell_type": "heading",
     "level": 4,
     "metadata": {},
     "source": [
      "2.3 Why did you select these features in your model? We are looking for specific reasons that lead you to believe that\n",
      "the selected features will contribute to the predictive power of your model.\n",
      "Your reasons might be based on intuition. For example, response for fog might be: \u201cI decided to use fog because I thought that when it is very foggy outside people might decide to use the subway more often.\u201d\n",
      "Your reasons might also be based on data exploration and experimentation, for example: \u201cI used feature X because as soon as I included it in my model, it drastically improved my R2 value.\u201d  \n"
     ]
    },
    {
     "cell_type": "markdown",
     "metadata": {},
     "source": [
      "With the combination below the value of r^2 is 0.48.\n",
      "\n",
      "Features: hour, day_week, weekday, meantempi, fog, rain, precipi, \n",
      "Unit as a dummy variable \n",
      "I tried different combinations based on data exploration and experimentation as you can see from the code.\n",
      "\n",
      "Initially I tried just with day_week and hour plus Unit as dummy because I was focused just on the fact that ridership should something really correlated to the time of the day and the day of the week (especially considering the city of New York and the commuter traffic).\n",
      "The r\u02c62 was 0.46\n",
      "\n",
      "Then I introduced also week_day and r^2 was something better:  r\u02c62 = 0.4824\n",
      "\n",
      "At the end I tried to add some features related to the weather because I supposed that when the weather is good people prefer to walk but the improvement was poor - r\u02c62 = 0.4841\n",
      "features = dataframe[['rain', 'precipi', 'hour', 'meantempi','fog','weekday','day_week']]\n",
      "\n",
      "Probably most of the people use the subway to cover long distance and so the weather condition is not relevant.\n"
     ]
    },
    {
     "cell_type": "markdown",
     "metadata": {},
     "source": [
      "The compute_r_squared is: 0.48"
     ]
    },
    {
     "cell_type": "code",
     "collapsed": false,
     "input": [
      "def normalize_features(df):\n",
      "    \"\"\"\n",
      "    Normalize the features in the data set.\n",
      "    \"\"\"\n",
      "    mu = df.mean()\n",
      "    sigma = df.std()\n",
      "    \n",
      "    if (sigma == 0).any():\n",
      "        raise Exception(\"One or more features had the same value for all samples, and thus could \" + \\\n",
      "                         \"not be normalized. Please do not include features with only a single value \" + \\\n",
      "                         \"in your model.\")\n",
      "    df_normalized = (df - df.mean()) / df.std()\n",
      "\n",
      "    return df_normalized, mu, sigma\n",
      "\n",
      "def compute_cost(features, values, theta):\n",
      "    \"\"\"\n",
      "    Compute the cost function given a set of features / values, \n",
      "    and the values for our thetas.\n",
      "    \n",
      "    This can be the same code as the compute_cost function in the lesson #3 exercises,\n",
      "    but feel free to implement your own.\n",
      "    \"\"\"\n",
      "    \n",
      "    m = len(values)\n",
      "    sum_of_square_errors = np.square(np.dot(features, theta) - values).sum()\n",
      "    cost = sum_of_square_errors / (2*m)\n",
      "\n",
      "    return cost\n",
      "\n",
      "def gradient_descent(features, values, theta, alpha, num_iterations):\n",
      "    \"\"\"\n",
      "    Perform gradient descent given a data set with an arbitrary number of features.\n",
      "    \n",
      "    This can be the same gradient descent code as in the lesson #3 exercises,\n",
      "    but feel free to implement your own.\n",
      "    \"\"\"\n",
      "    \n",
      "    m= len(values)\n",
      "    cost_history = []\n",
      "\n",
      "    for i in range (num_iterations):\n",
      "        predicted_values= np.dot(features, theta)\n",
      "        theta = theta - alpha /m * np.dot((predicted_values - values), features)\n",
      "        \n",
      "        cost= compute_cost(features, values, theta)\n",
      "        cost_history.append(cost)\n",
      "        \n",
      "    return theta, pd.Series(cost_history) \n",
      "\n",
      "def predictions(dataframe, alpha=0.1,num_iterations=75):\n",
      "    '''\n",
      "    The NYC turnstile data is stored in a pandas dataframe called weather_turnstile.\n",
      "    Using the information stored in the dataframe, let's predict the ridership of\n",
      "    the NYC subway using linear regression with gradient descent.\n",
      "    \n",
      "    You can download the complete turnstile weather dataframe here:\n",
      "    https://www.dropbox.com/s/meyki2wl9xfa7yk/turnstile_data_master_with_weather.csv    \n",
      "    \n",
      "    Your prediction should have a R^2 value of 0.20 or better.\n",
      "    You need to experiment using various input features contained in the dataframe. \n",
      "    We recommend that you don't use the EXITSn_hourly feature as an input to the \n",
      "    linear model because we cannot use it as a predictor: we cannot use exits \n",
      "    counts as a way to predict entry counts. \n",
      "    If you'd like to view a plot of your cost history, uncomment the call to \n",
      "    plot_cost_history below. The slowdown from plotting is significant, so if you \n",
      "    are timing out, the first thing to do is to comment out the plot command again.\n",
      "    '''\n",
      "    # Select Features (try different features!)\n",
      "    #features = dataframe[['hour','day_week']]\n",
      "    #features = dataframe[['hour','day_week','weekday']]\n",
      "    #features = dataframe[['rain', 'precipi', 'hour', 'meantempi']]\n",
      "    #features = dataframe[['rain', 'precipi', 'hour', 'meantempi','fog','weekday']]\n",
      "    features = dataframe[['rain', 'precipi', 'hour', 'meantempi','fog','weekday','day_week']]\n",
      "    #features = dataframe[['rain', 'hour', 'meantempi','fog','weekday','day_week']]\n",
      "    \n",
      "    \n",
      "    # Add UNIT to features using dummy variables\n",
      "    dummy_units = pd.get_dummies(dataframe['UNIT'], prefix='unit')\n",
      "    features = features.join(dummy_units)\n",
      "    \n",
      "    # Values\n",
      "    values = dataframe['ENTRIESn_hourly']\n",
      "    m = len(values)\n",
      "\n",
      "    features, mu, sigma = normalize_features(features)\n",
      "    features['ones'] = np.ones(m) # Add a column of 1s (y intercept)\n",
      "    \n",
      "    # Convert features and values to numpy arrays\n",
      "    features_array = np.array(features)\n",
      "    values_array = np.array(values)\n",
      "\n",
      "    # Set values for alpha, number of iterations. --> inserted as parameters in the fuction\n",
      "    #alpha = 0.1 # please feel free to change this value\n",
      "    #num_iterations = 75 # please feel free to change this value\n",
      "\n",
      "    # Initialize theta, perform gradient descent\n",
      "    theta_gradient_descent = np.zeros(len(features.columns))\n",
      "    theta_gradient_descent, cost_history = gradient_descent(features_array, \n",
      "                                                            values_array, \n",
      "                                                            theta_gradient_descent, \n",
      "                                                            alpha, \n",
      "                                                            num_iterations)\n",
      "    \n",
      "    plot = None\n",
      "    # -------------------------------------------------\n",
      "    # Uncomment the next line to see the cost history\n",
      "    # -------------------------------------------------\n",
      "    plot = plot_cost_history(alpha, cost_history)\n",
      "    \n",
      "    predictions = np.dot(features_array, theta_gradient_descent)\n",
      "    #Add Theta in the retutn parameters\n",
      "    return predictions, plot, theta_gradient_descent\n",
      "\n",
      "\n",
      "def plot_cost_history(alpha, cost_history):\n",
      "   \"\"\"This function is for viewing the plot of your cost history.\n",
      "   You can run it by uncommenting this\n",
      "\n",
      "       plot_cost_history(alpha, cost_history) \n",
      "\n",
      "   call in predictions.\n",
      "   \n",
      "   If you want to run this locally, you should print the return value\n",
      "   from this function.\n",
      "   \"\"\"\n",
      "   cost_df = pd.DataFrame({\n",
      "      'Cost_History': cost_history,\n",
      "      'Iteration': range(len(cost_history))\n",
      "   })\n",
      "   return ggplot(cost_df, aes('Iteration', 'Cost_History')) + \\\n",
      "      geom_point() + ggtitle('Cost History for alpha = %.3f' % alpha )\n",
      "\n",
      "#Plotting residuals   \n",
      "def plot_residuals(turnstile_weather, predictions):\n",
      "    '''\n",
      "    Using the same methods that we used to plot a histogram of entries\n",
      "    per hour for our data, why don't you make a histogram of the residuals\n",
      "    (that is, the difference between the original hourly entry data and the predicted values).\n",
      "    Try different binwidths for your histogram.\n",
      "\n",
      "    Based on this residual histogram, do you have any insight into how our model\n",
      "    performed?  Reading a bit on this webpage might be useful:\n",
      "\n",
      "    http://www.itl.nist.gov/div898/handbook/pri/section2/pri24.htm\n",
      "    '''\n",
      "    \n",
      "    plt.figure()\n",
      "    plt.title('Histogram of the residual')\n",
      "    plt.xlabel('Residual')\n",
      "    plt.ylabel('Frequency')\n",
      "    (turnstile_weather['''ENTRIESn_hourly'''] - predictions).hist()\n",
      "    return plt\n",
      "\n",
      "#Compute R\u02c62\n",
      "def compute_r_squared(data, predictions):\n",
      "    '''\n",
      "   Given a list of original data points, and also a list of predicted data points,\n",
      "    write a function that will compute and return the coefficient of determination (R^2)\n",
      "    for this data.  numpy.mean() and numpy.sum() might both be useful here, but\n",
      "    not necessary.\n",
      "\n",
      "    Documentation about numpy.mean() and numpy.sum() below:\n",
      "    http://docs.scipy.org/doc/numpy/reference/generated/numpy.mean.html\n",
      "    http://docs.scipy.org/doc/numpy/reference/generated/numpy.sum.html\n",
      "    '''\n",
      "    \n",
      "    y= np.mean(data)\n",
      "    print str(y)\n",
      "    denominator= numerator =0\n",
      "    \n",
      "    for i, p in zip(data, predictions):\n",
      "         denominator = denominator + (i-y)**2\n",
      "         numerator =  numerator+ (i - p)**2\n",
      "  \n",
      "    r_squared= 1-(numerator/denominator)\n",
      "  \n",
      "  \n",
      "    return r_squared"
     ],
     "language": "python",
     "metadata": {},
     "outputs": [],
     "prompt_number": 182
    },
    {
     "cell_type": "markdown",
     "metadata": {},
     "source": [
      "Calculate and return the predictions, theta and the plot"
     ]
    },
    {
     "cell_type": "code",
     "collapsed": false,
     "input": [
      "predictions,plot,theta=predictions(df,alpha=0.1,num_iterations = 150)\n"
     ],
     "language": "python",
     "metadata": {},
     "outputs": [],
     "prompt_number": 183
    },
    {
     "cell_type": "heading",
     "level": 4,
     "metadata": {},
     "source": [
      "2.4 What are the coefficients (or weights) of the non-dummy features in your linear regression model?"
     ]
    },
    {
     "cell_type": "markdown",
     "metadata": {},
     "source": [
      "Coefficients (or weights) of the non-dummy features in your linear regression model"
     ]
    },
    {
     "cell_type": "code",
     "collapsed": false,
     "input": [
      "#features = dataframe[['rain', 'precipi', 'hour', 'meantempi','fog','weekday','day_week']]\n",
      "rain_theta, precipi_theta, hour_theta, meantempi_theta,fog_theta, weekday_theta, day_week_theta= theta[0:7]\n",
      "print (\"Coefficients of determination:\")\n",
      "print(\"Rain: %s\" %(rain_theta))\n",
      "print(\"Precipi: %s\" %(precipi_theta))\n",
      "print(\"Hour: %s\" %(hour_theta))\n",
      "print(\"Mean temp: %s\" %(meantempi_theta))\n",
      "print(\"Fog temp: %s\" %(fog_theta))\n",
      "print(\"Weekday: %s\" %(weekday_theta))\n",
      "print(\"Day of week: %s\" %(day_week_theta))\n"
     ],
     "language": "python",
     "metadata": {},
     "outputs": [
      {
       "output_type": "stream",
       "stream": "stdout",
       "text": [
        "Coefficients of determination:\n",
        "Rain: 12.7684143323\n",
        "Precipitaion: -73.9754137203\n",
        "Hour: 851.476601304\n",
        "Mean temp: -93.1894214671\n",
        "Fog temp: -38.695480947\n",
        "Weekday: 547.140988212\n",
        "Day of week: 131.144151834\n"
       ]
      }
     ],
     "prompt_number": 200
    },
    {
     "cell_type": "heading",
     "level": 4,
     "metadata": {},
     "source": [
      "2.5 What is your model\u2019s R2 (coefficients of determination) value?"
     ]
    },
    {
     "cell_type": "markdown",
     "metadata": {},
     "source": [
      "Calculate R^2: (from 0 to 1)"
     ]
    },
    {
     "cell_type": "code",
     "collapsed": false,
     "input": [
      "r_s=compute_r_squared(df['ENTRIESn_hourly'],predictions)\n",
      "print (\"The compute_r_squared is  : %s\" % r_s)"
     ],
     "language": "python",
     "metadata": {},
     "outputs": [
      {
       "output_type": "stream",
       "stream": "stdout",
       "text": [
        "1886.58995522\n",
        "The compute_r_squared is  : 0.48417227115"
       ]
      },
      {
       "output_type": "stream",
       "stream": "stdout",
       "text": [
        "\n"
       ]
      }
     ],
     "prompt_number": 184
    },
    {
     "cell_type": "markdown",
     "metadata": {},
     "source": [
      "Below the plot of the **Cost History**"
     ]
    },
    {
     "cell_type": "code",
     "collapsed": false,
     "input": [
      "plot"
     ],
     "language": "python",
     "metadata": {},
     "outputs": [
      {
       "metadata": {},
       "output_type": "display_data",
       "png": "[encoded data removed]",
       "text": [
        "<matplotlib.figure.Figure at 0x114592090>"
       ]
      },
      {
       "metadata": {},
       "output_type": "pyout",
       "prompt_number": 185,
       "text": [
        "<ggplot: (289772285)>"
       ]
      }
     ],
     "prompt_number": 185
    },
    {
     "cell_type": "markdown",
     "metadata": {},
     "source": [
      "Below the **histogram of the residuals**\n",
      "\n",
      "that is, the difference between the original hourly entry data (df) and the predicted values (predictions)).\n",
      "    "
     ]
    },
    {
     "cell_type": "code",
     "collapsed": false,
     "input": [
      "plot_residuals(df, predictions)"
     ],
     "language": "python",
     "metadata": {},
     "outputs": [
      {
       "metadata": {},
       "output_type": "pyout",
       "prompt_number": 186,
       "text": [
        "<module 'matplotlib.pyplot' from '//anaconda/lib/python2.7/site-packages/matplotlib/pyplot.pyc'>"
       ]
      },
      {
       "metadata": {},
       "output_type": "display_data",
       "png": "[encoded data removed]",
       "text": [
        "<matplotlib.figure.Figure at 0x10d2bf810>"
       ]
      }
     ],
     "prompt_number": 186
    },
    {
     "cell_type": "code",
     "collapsed": false,
     "input": [
      "plt.hist(predictions,bins=10,alpha=0.5,label='Predictions')\n",
      "plt.hist(df['ENTRIESn_hourly'].values,bins=10,alpha=0.5,label='Data')\n",
      "plt.title('Histogram with predictions and real data')\n",
      "plt.xlabel('Data/Predictions')\n",
      "plt.ylabel('Frequency')\n",
      "plt.legend()"
     ],
     "language": "python",
     "metadata": {},
     "outputs": [
      {
       "metadata": {},
       "output_type": "pyout",
       "prompt_number": 206,
       "text": [
        "<matplotlib.legend.Legend at 0x10d020f10>"
       ]
      },
      {
       "metadata": {},
       "output_type": "display_data",
       "png": "[encoded data removed]",
       "text": [
        "<matplotlib.figure.Figure at 0x1166d4350>"
       ]
      }
     ],
     "prompt_number": 206
    },
    {
     "cell_type": "heading",
     "level": 4,
     "metadata": {},
     "source": [
      "2.6 What does this R2 value mean for the goodness of fit for your regression model? Do you think this linear model to predict ridership is appropriate for this dataset, given this R2  value?"
     ]
    },
    {
     "cell_type": "markdown",
     "metadata": {},
     "source": [
      "The R^2 is quite small and the model is not working very well. \n",
      "\n",
      "It\u2019s not so bad but far from the best value of R^2. \n",
      "\n",
      "The best will be with R^2=1 that means 100% accuracy by the linear model. Now we are about half of the best case and so the linear model, using R^2 =0.48 is not so accurated. "
     ]
    },
    {
     "cell_type": "heading",
     "level": 3,
     "metadata": {},
     "source": [
      "Section 3. Visualization"
     ]
    },
    {
     "cell_type": "code",
     "collapsed": false,
     "input": [
      "#Top10 UNIT per ENTRIESn hourly\n",
      "df = pd.read_csv('./Dataset/turnstile_weather_v2.csv')\n",
      "min_date= df[\"DATEn\"].min()\n",
      "max_date= df[\"DATEn\"].max()\n",
      "\n",
      "df = df[['UNIT','ENTRIESn_hourly']]\n",
      "unit_counts = df.groupby('UNIT').aggregate(sum)\n",
      "unit_counts.reset_index(drop=False, inplace=True)\n",
      "result = unit_counts.sort(['ENTRIESn_hourly'], ascending=[0])\n",
      "\n",
      "\n",
      "\n",
      "top10_Unit= result.head(10)\n",
      "\n",
      "#plt.figure()\n",
      "#plt.xlabel('UNIT', fontsize=14)\n",
      "#plt.ylabel('ENTRIESn_hourly', fontsize=14)\n",
      "#plt.title('Top10 UNIT per ENTRIESn hourly',fontsize=18)\n",
      "#plt.bar('UNIT', 'ENTRIESn_hourly')\n",
      "\n",
      "top10_Unit.plot(kind = 'bar',figsize =(10,5))\n",
      "pylab.title('Top10 UNIT per ENTRIESn hourly - %s - %s' % (min_date, max_date) )\n",
      "pylab.ylabel('ENTRIESn_hourly');\n",
      "\n"
     ],
     "language": "python",
     "metadata": {},
     "outputs": [
      {
       "metadata": {},
       "output_type": "display_data",
       "png": "[encoded data removed]",
       "text": [
        "<matplotlib.figure.Figure at 0x11da15e90>"
       ]
      }
     ],
     "prompt_number": 245
    },
    {
     "cell_type": "code",
     "collapsed": false,
     "input": [
      "#Sum of ENTRIESn hourly group by day\n",
      "\n",
      "df = pd.read_csv('./Dataset/turnstile_weather_v2.csv',parse_dates=['DATEn'], index_col='DATEn')\n",
      "min_date= df.index.min()\n",
      "max_date= df.index.max()\n",
      "\n",
      "df = df[['ENTRIESn_hourly']]\n",
      "df['weekday'] =df.index.weekday\n",
      "\n",
      "weekday_counts = df.groupby('weekday').aggregate(sum)\n",
      "#weekday_counts.index = ['Monday', 'Tuesday', 'Wednesday', 'Thursday', 'Friday', 'Saturday', 'Sunday']\n",
      "weekday_counts.reset_index(drop=False, inplace=True)\n",
      "\n",
      "ggplot(weekday_counts,aes(x='weekday',y='ENTRIESn_hourly') )+ geom_point() + geom_line() + \\\n",
      "       stat_smooth(color='blue')+ ggtitle('Sum of ENTRIESn hourly group by day. Period: %s - %s' % (min_date, max_date) )+ xlab('Day') + ylab('ENTRIESn hourly') \n",
      "\n",
      "\n"
     ],
     "language": "python",
     "metadata": {},
     "outputs": [
      {
       "metadata": {},
       "output_type": "display_data",
       "png": "[encoded data removed]",
       "text": [
        "<matplotlib.figure.Figure at 0x1189a5fd0>"
       ]
      },
      {
       "metadata": {},
       "output_type": "pyout",
       "prompt_number": 213,
       "text": [
        "<ggplot: (289323861)>"
       ]
      }
     ],
     "prompt_number": 213
    },
    {
     "cell_type": "code",
     "collapsed": false,
     "input": [
      "#Sum of ENTRIESn hourly group by hour\n",
      "\n",
      "\n",
      "\n",
      "df = pd.read_csv('./Dataset/turnstile_weather_v2.csv')\n",
      "\n",
      "min_date= df[\"DATEn\"].min()\n",
      "max_date= df[\"DATEn\"].max()\n",
      "df = df[['hour','ENTRIESn_hourly']]\n",
      "\n",
      "hourly_sum =  df.groupby('hour').aggregate(sum)\n",
      "hourly_sum.reset_index(drop=False, inplace=True)\n",
      "\n",
      "ggplot(hourly_sum,aes(x='hour',y='ENTRIESn_hourly') ) + geom_point() + geom_line() + scale_x_continuous (limits=(0,23), breaks=[0,1,2,3,4,5,6,7,8,9,10,11,12,13,14,15,16,17,18,19,20,21,22,23]) +\\\n",
      "    stat_smooth(color='green')+ ggtitle('Sum of ENTRIESn hourly group by hour - Period: %s - %s' % (min_date, max_date) ) + xlab('Hours day') + ylab('ENTRIESn hourly') \n",
      "\n"
     ],
     "language": "python",
     "metadata": {},
     "outputs": [
      {
       "metadata": {},
       "output_type": "display_data",
       "png": "[encoded data removed]",
       "text": [
        "<matplotlib.figure.Figure at 0x11d0fa7d0>"
       ]
      },
      {
       "metadata": {},
       "output_type": "pyout",
       "prompt_number": 246,
       "text": [
        "<ggplot: (298749325)>"
       ]
      }
     ],
     "prompt_number": 246
    },
    {
     "cell_type": "heading",
     "level": 5,
     "metadata": {},
     "source": [
      "Using ggplot but I'm fighting a lot and stuck :-("
     ]
    },
    {
     "cell_type": "code",
     "collapsed": false,
     "input": [
      "df = pd.read_csv('./Dataset/turnstile_weather_v2.csv')\n",
      "df = df[['UNIT','ENTRIESn_hourly']]\n",
      "unit_counts = df.groupby('UNIT').aggregate(sum)\n",
      "unit_counts.reset_index(drop=False, inplace=True)\n",
      "result = unit_counts.sort(['ENTRIESn_hourly'], ascending=[0])\n",
      "top10_Unit= result.head(10)\n",
      "\n",
      "#weekday_counts.rename(columns={'index': 'Days'}, inplace=True)\n",
      "#ggplot(aes(x='UNIT', weight='ENTRIESn_hourly'), top10_Unit )+ geom_hist()  + ggtitle('Top10 UNIT per ENTRIESn hourly') + facet_wrap(\"COLOR\")\n",
      "#ggplot(top10_Unit, aes(x='UNIT', y='ENTRIESn_hourly'))+ geom_bar(aes(x='UNIT', weight = 'ENTRIESn_hourly', fill='blue'))\n",
      "#plot3 = ggplot(top10_Unit, aes(x='UNIT', y='ENTRIESn_hourly')) + geom_bar(aes(weight='ENTRIESn_hourly'))\n",
      "#plot3\n",
      "#ggplot(aes(x=\"x\", weight=\"y\"), df) + geom_bar()\n",
      "ggplot(aes(x=\"UNIT\", weight=\"ENTRIESn_hourly\"), top10_Unit) + geom_bar()+ ggtitle('Top10 UNIT per ENTRIESn hourly')\n",
      "#ggplot(top10_Unit,aes(x='UNIT',y='ENTRIESn_hourly') ) + geom_point() + geom_line() + \\\n",
      "    # stat_smooth(color='green')+ ggtitle('Top10 UNITs per ENTRIESn hourly')  + xlab('UNITS') + ylab('ENTRIESn hourly') \n",
      "  "
     ],
     "language": "python",
     "metadata": {},
     "outputs": []
    },
    {
     "cell_type": "code",
     "collapsed": false,
     "input": [],
     "language": "python",
     "metadata": {},
     "outputs": []
    }
   ],
   "metadata": {}
  }
 ]
}