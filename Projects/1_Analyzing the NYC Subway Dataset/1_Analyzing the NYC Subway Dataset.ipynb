{
 "metadata": {
  "name": "",
  "signature": "sha256:6f16a72661773539ec648cf358b232d7b9fe4d26019c93f08ae3955f5b5fae0e"
 },
 "nbformat": 3,
 "nbformat_minor": 0,
 "worksheets": []
}