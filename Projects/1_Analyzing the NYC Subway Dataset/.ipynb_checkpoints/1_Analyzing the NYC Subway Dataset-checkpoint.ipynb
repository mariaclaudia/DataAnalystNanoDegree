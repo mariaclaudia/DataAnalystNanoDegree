{
 "metadata": {
  "name": "",
  "signature": "sha256:1f23ed569f7edd66baaeca90283d1e1fbb187b4fae8d632119ebf8e62ab5e7f7"
 },
 "nbformat": 3,
 "nbformat_minor": 0,
 "worksheets": [
  {
   "cells": [
    {
     "cell_type": "heading",
     "level": 1,
     "metadata": {},
     "source": [
      "Udacity Data Analyst Nanodegree "
     ]
    },
    {
     "cell_type": "heading",
     "level": 2,
     "metadata": {},
     "source": [
      " Project 1: Analyzing the NYC Subway Dataset"
     ]
    },
    {
     "cell_type": "heading",
     "level": 3,
     "metadata": {},
     "source": [
      "Author: \n",
      "    "
     ]
    },
    {
     "cell_type": "markdown",
     "metadata": {},
     "source": [
      "[Maria Claudia Bodino](https://de.linkedin.com/in/mariaclaudiabodino/) \n"
     ]
    },
    {
     "cell_type": "heading",
     "level": 3,
     "metadata": {},
     "source": [
      "Project Overview:"
     ]
    },
    {
     "cell_type": "markdown",
     "metadata": {},
     "source": [
      "In this project, I look at the NYC Subway data (weather & subway) and I would like to figure what factors (rain, weekday, and what not) influece the subway usage.\n",
      "\n",
      "I will wrangle the NYC subway data, use statistical methods and data visualization to draw an interesting conclusion about the subway dataset that I've analyzed.\n",
      "\n",
      "Prepared for this project with: \n",
      "\n",
      "MOOCs:\n",
      "* [Intro to Data Science](https://www.udacity.com/course/ud359) (Udacity)\n",
      "* [Intro to Descriptive Statistics](https://www.udacity.com/course/ud827) (Udacity)\n",
      "* [Intro to Inferential Statistics](https://www.udacity.com/course/ud201) (Udacity)\n",
      "* [MITx: 6.00.1x Introduction to Computer Science and Programming Using Python](https://www.edx.org/course/introduction-computer-science-mitx-6-00-1x-0#.VPJFGUIRQfs) (Edx) -  I'm a newbie in Python\n",
      "\n"
     ]
    },
    {
     "cell_type": "heading",
     "level": 3,
     "metadata": {},
     "source": [
      "Data set:"
     ]
    },
    {
     "cell_type": "markdown",
     "metadata": {},
     "source": [
      "The data set used in the project is the improved dataset provided by Udacity. \n",
      "\n",
      "It contains the NYC Subway data joined with the daily weather data obtained from the Weather Underground, performed with some basic cleaning, transformations and filtering.\n",
      "\n",
      "The data set and the description of the data was shared by Udacity and are also available in this repo (folder: dataset)\n",
      "\n",
      "[Link to the Data set and fields description](https://www.dropbox.com/s/1lpoeh2w6px4diu/improved-dataset.zip?dl=0)"
     ]
    },
    {
     "cell_type": "heading",
     "level": 4,
     "metadata": {},
     "source": [
      "Turnstile and Weather Variables"
     ]
    },
    {
     "cell_type": "markdown",
     "metadata": {},
     "source": [
      "**UNIT** Remote unit that collects turnstile information. Can collect from multiple banks of turnstiles. Large subway stations can have more than one unit.\n",
      "\n",
      "**DATEn** Date in \u201cyyyy\u00admm\u00addd\u201d (2011\u00ad05\u00ad21) format.\n",
      "\n",
      "**TIMEn** Time in \u201chh:mm:ss\u201d (08:05:02) format.\n",
      "\n",
      "**ENTRIESn** Raw reading of cummulative turnstile entries from the remote unit. Occasionally resets to 0.\n",
      "\n",
      "**EXITSn** Raw reading of cummulative turnstile exits from the remote unit. Occasionally resets to 0.\n",
      "\n",
      "**ENTRIESn_hourly** Difference in ENTRIES from the previous REGULAR reading.\n",
      "\n",
      "**EXITSn_hourly** Difference in EXITS from the previous REGULAR reading.\n",
      "\n",
      "**datetime** Date and time in \u201cyyyy\u00admm\u00addd hh:mm:ss\u201d format (2011\u00ad05\u00ad01 00:00:00). Can be parsed into a Pandas datetime object \n",
      "without modifications.\n",
      "\n",
      "**hour** Hour of the timestamp from TIMEn. Truncated rather than rounded.\n",
      "\n",
      "**day_week** Integer (0 \u00ad 6 Mon \u00ad Sun) corresponding to the day of the week.\n",
      "\n",
      "**weekday** Indicator (0 or 1) if the date is a weekday (Mon \u00ad Fri).\n",
      "\n",
      "**station** Subway station corresponding to the remote unit.\n",
      "\n",
      "**latitude** Latitude of the subway station corresponding to the remote unit.\n",
      "\n",
      "**longitude** Longitude of the subway station corresponding to the remote unit.\n",
      "\n",
      "**conds** Categorical variable of the weather conditions (Clear, Cloudy etc.) for the time and location.\n",
      "\n",
      "**fog** Indicator (0 or 1) if there was fog at the time and location.\n",
      "\n",
      "**precipi** Precipitation in inches at the time and location.\n",
      "\n",
      "**pressurei** Barometric pressure in inches Hg at the time and location.\n",
      "\n",
      "**rain** Indicator (0 or 1) if rain occurred within the calendar day at the location.\n",
      "\n",
      "**tempi** Temperature in \u00b0F at the time and location.\n",
      "\n",
      "**wspdi** Wind speed in mph at the time and location.\n",
      "\n",
      "**meanprecipi** Daily average of precipi for the location.\n",
      "\n",
      "**meanpressurei** Daily average of pressurei for the location.\n",
      "\n",
      "**meantempi** Daily average of tempi for the location.\n",
      "\n",
      "**meanwspdi** Daily average of wspdi for the location.\n",
      "\n",
      "**weather_lat** Latitude of the weather station the weather data is from.\n",
      "\n",
      "**weather_lon** Longitude of the weather station the weather data is from."
     ]
    },
    {
     "cell_type": "heading",
     "level": 3,
     "metadata": {},
     "source": [
      "Section 0. Set up "
     ]
    },
    {
     "cell_type": "heading",
     "level": 4,
     "metadata": {},
     "source": [
      "Import Packages"
     ]
    },
    {
     "cell_type": "code",
     "collapsed": false,
     "input": [
      "from ggplot import *\n",
      "import pandas as pd\n",
      "import numpy as np\n",
      "import scipy.stats as ss\n",
      "import statsmodels.api as sm\n",
      "import matplotlib.pyplot as plt"
     ],
     "language": "python",
     "metadata": {},
     "outputs": [],
     "prompt_number": 6
    },
    {
     "cell_type": "code",
     "collapsed": false,
     "input": [
      "%matplotlib inline"
     ],
     "language": "python",
     "metadata": {},
     "outputs": [],
     "prompt_number": 7
    },
    {
     "cell_type": "heading",
     "level": 4,
     "metadata": {},
     "source": [
      "Import Data"
     ]
    },
    {
     "cell_type": "code",
     "collapsed": false,
     "input": [
      "df = pd.read_csv('./Dataset/turnstile_weather_v2.csv')"
     ],
     "language": "python",
     "metadata": {},
     "outputs": [],
     "prompt_number": 8
    },
    {
     "cell_type": "heading",
     "level": 4,
     "metadata": {},
     "source": [
      "Exploring Data"
     ]
    },
    {
     "cell_type": "code",
     "collapsed": false,
     "input": [
      "df.describe()"
     ],
     "language": "python",
     "metadata": {},
     "outputs": [
      {
       "html": [
        "<div style=\"max-height:1000px;max-width:1500px;overflow:auto;\">\n",
        "<table border=\"1\" class=\"dataframe\">\n",
        "  <thead>\n",
        "    <tr style=\"text-align: right;\">\n",
        "      <th></th>\n",
        "      <th>ENTRIESn</th>\n",
        "      <th>EXITSn</th>\n",
        "      <th>ENTRIESn_hourly</th>\n",
        "      <th>EXITSn_hourly</th>\n",
        "      <th>hour</th>\n",
        "      <th>day_week</th>\n",
        "      <th>weekday</th>\n",
        "      <th>latitude</th>\n",
        "      <th>longitude</th>\n",
        "      <th>fog</th>\n",
        "      <th>precipi</th>\n",
        "      <th>pressurei</th>\n",
        "      <th>rain</th>\n",
        "      <th>tempi</th>\n",
        "      <th>wspdi</th>\n",
        "      <th>meanprecipi</th>\n",
        "      <th>meanpressurei</th>\n",
        "      <th>meantempi</th>\n",
        "      <th>meanwspdi</th>\n",
        "      <th>weather_lat</th>\n",
        "      <th>weather_lon</th>\n",
        "    </tr>\n",
        "  </thead>\n",
        "  <tbody>\n",
        "    <tr>\n",
        "      <th>count</th>\n",
        "      <td> 4.264900e+04</td>\n",
        "      <td> 4.264900e+04</td>\n",
        "      <td> 42649.000000</td>\n",
        "      <td> 42649.000000</td>\n",
        "      <td> 42649.000000</td>\n",
        "      <td> 42649.000000</td>\n",
        "      <td> 42649.000000</td>\n",
        "      <td> 42649.000000</td>\n",
        "      <td> 42649.000000</td>\n",
        "      <td> 42649.000000</td>\n",
        "      <td> 42649.000000</td>\n",
        "      <td> 42649.000000</td>\n",
        "      <td> 42649.000000</td>\n",
        "      <td> 42649.000000</td>\n",
        "      <td> 42649.000000</td>\n",
        "      <td> 42649.000000</td>\n",
        "      <td> 42649.000000</td>\n",
        "      <td> 42649.000000</td>\n",
        "      <td> 42649.000000</td>\n",
        "      <td> 42649.000000</td>\n",
        "      <td> 42649.000000</td>\n",
        "    </tr>\n",
        "    <tr>\n",
        "      <th>mean</th>\n",
        "      <td> 2.812486e+07</td>\n",
        "      <td> 1.986993e+07</td>\n",
        "      <td>  1886.589955</td>\n",
        "      <td>  1361.487866</td>\n",
        "      <td>    10.046754</td>\n",
        "      <td>     2.905719</td>\n",
        "      <td>     0.714436</td>\n",
        "      <td>    40.724647</td>\n",
        "      <td>   -73.940364</td>\n",
        "      <td>     0.009824</td>\n",
        "      <td>     0.004618</td>\n",
        "      <td>    29.971096</td>\n",
        "      <td>     0.224741</td>\n",
        "      <td>    63.103780</td>\n",
        "      <td>     6.927872</td>\n",
        "      <td>     0.004618</td>\n",
        "      <td>    29.971096</td>\n",
        "      <td>    63.103780</td>\n",
        "      <td>     6.927872</td>\n",
        "      <td>    40.728555</td>\n",
        "      <td>   -73.938693</td>\n",
        "    </tr>\n",
        "    <tr>\n",
        "      <th>std</th>\n",
        "      <td> 3.043607e+07</td>\n",
        "      <td> 2.028986e+07</td>\n",
        "      <td>  2952.385585</td>\n",
        "      <td>  2183.845409</td>\n",
        "      <td>     6.938928</td>\n",
        "      <td>     2.079231</td>\n",
        "      <td>     0.451688</td>\n",
        "      <td>     0.071650</td>\n",
        "      <td>     0.059713</td>\n",
        "      <td>     0.098631</td>\n",
        "      <td>     0.025832</td>\n",
        "      <td>     0.137942</td>\n",
        "      <td>     0.417417</td>\n",
        "      <td>     8.455597</td>\n",
        "      <td>     4.510178</td>\n",
        "      <td>     0.016344</td>\n",
        "      <td>     0.131158</td>\n",
        "      <td>     6.939011</td>\n",
        "      <td>     3.179832</td>\n",
        "      <td>     0.065420</td>\n",
        "      <td>     0.059582</td>\n",
        "    </tr>\n",
        "    <tr>\n",
        "      <th>min</th>\n",
        "      <td> 0.000000e+00</td>\n",
        "      <td> 0.000000e+00</td>\n",
        "      <td>     0.000000</td>\n",
        "      <td>     0.000000</td>\n",
        "      <td>     0.000000</td>\n",
        "      <td>     0.000000</td>\n",
        "      <td>     0.000000</td>\n",
        "      <td>    40.576152</td>\n",
        "      <td>   -74.073622</td>\n",
        "      <td>     0.000000</td>\n",
        "      <td>     0.000000</td>\n",
        "      <td>    29.550000</td>\n",
        "      <td>     0.000000</td>\n",
        "      <td>    46.900000</td>\n",
        "      <td>     0.000000</td>\n",
        "      <td>     0.000000</td>\n",
        "      <td>    29.590000</td>\n",
        "      <td>    49.400000</td>\n",
        "      <td>     0.000000</td>\n",
        "      <td>    40.600204</td>\n",
        "      <td>   -74.014870</td>\n",
        "    </tr>\n",
        "    <tr>\n",
        "      <th>25%</th>\n",
        "      <td> 1.039762e+07</td>\n",
        "      <td> 7.613712e+06</td>\n",
        "      <td>   274.000000</td>\n",
        "      <td>   237.000000</td>\n",
        "      <td>     4.000000</td>\n",
        "      <td>     1.000000</td>\n",
        "      <td>     0.000000</td>\n",
        "      <td>    40.677107</td>\n",
        "      <td>   -73.987342</td>\n",
        "      <td>     0.000000</td>\n",
        "      <td>     0.000000</td>\n",
        "      <td>    29.890000</td>\n",
        "      <td>     0.000000</td>\n",
        "      <td>    57.000000</td>\n",
        "      <td>     4.600000</td>\n",
        "      <td>     0.000000</td>\n",
        "      <td>    29.913333</td>\n",
        "      <td>    58.283333</td>\n",
        "      <td>     4.816667</td>\n",
        "      <td>    40.688591</td>\n",
        "      <td>   -73.985130</td>\n",
        "    </tr>\n",
        "    <tr>\n",
        "      <th>50%</th>\n",
        "      <td> 1.818389e+07</td>\n",
        "      <td> 1.331609e+07</td>\n",
        "      <td>   905.000000</td>\n",
        "      <td>   664.000000</td>\n",
        "      <td>    12.000000</td>\n",
        "      <td>     3.000000</td>\n",
        "      <td>     1.000000</td>\n",
        "      <td>    40.717241</td>\n",
        "      <td>   -73.953459</td>\n",
        "      <td>     0.000000</td>\n",
        "      <td>     0.000000</td>\n",
        "      <td>    29.960000</td>\n",
        "      <td>     0.000000</td>\n",
        "      <td>    61.000000</td>\n",
        "      <td>     6.900000</td>\n",
        "      <td>     0.000000</td>\n",
        "      <td>    29.958000</td>\n",
        "      <td>    60.950000</td>\n",
        "      <td>     6.166667</td>\n",
        "      <td>    40.720570</td>\n",
        "      <td>   -73.949150</td>\n",
        "    </tr>\n",
        "    <tr>\n",
        "      <th>75%</th>\n",
        "      <td> 3.263049e+07</td>\n",
        "      <td> 2.393771e+07</td>\n",
        "      <td>  2255.000000</td>\n",
        "      <td>  1537.000000</td>\n",
        "      <td>    16.000000</td>\n",
        "      <td>     5.000000</td>\n",
        "      <td>     1.000000</td>\n",
        "      <td>    40.759123</td>\n",
        "      <td>   -73.907733</td>\n",
        "      <td>     0.000000</td>\n",
        "      <td>     0.000000</td>\n",
        "      <td>    30.060000</td>\n",
        "      <td>     0.000000</td>\n",
        "      <td>    69.100000</td>\n",
        "      <td>     9.200000</td>\n",
        "      <td>     0.000000</td>\n",
        "      <td>    30.060000</td>\n",
        "      <td>    67.466667</td>\n",
        "      <td>     8.850000</td>\n",
        "      <td>    40.755226</td>\n",
        "      <td>   -73.912033</td>\n",
        "    </tr>\n",
        "    <tr>\n",
        "      <th>max</th>\n",
        "      <td> 2.357746e+08</td>\n",
        "      <td> 1.493782e+08</td>\n",
        "      <td> 32814.000000</td>\n",
        "      <td> 34828.000000</td>\n",
        "      <td>    20.000000</td>\n",
        "      <td>     6.000000</td>\n",
        "      <td>     1.000000</td>\n",
        "      <td>    40.889185</td>\n",
        "      <td>   -73.755383</td>\n",
        "      <td>     1.000000</td>\n",
        "      <td>     0.300000</td>\n",
        "      <td>    30.320000</td>\n",
        "      <td>     1.000000</td>\n",
        "      <td>    86.000000</td>\n",
        "      <td>    23.000000</td>\n",
        "      <td>     0.157500</td>\n",
        "      <td>    30.293333</td>\n",
        "      <td>    79.800000</td>\n",
        "      <td>    17.083333</td>\n",
        "      <td>    40.862064</td>\n",
        "      <td>   -73.694176</td>\n",
        "    </tr>\n",
        "  </tbody>\n",
        "</table>\n",
        "</div>"
       ],
       "metadata": {},
       "output_type": "pyout",
       "prompt_number": 10,
       "text": [
        "           ENTRIESn        EXITSn  ENTRIESn_hourly  EXITSn_hourly          hour      day_week       weekday      latitude     longitude           fog       precipi     pressurei          rain         tempi         wspdi   meanprecipi  meanpressurei     meantempi     meanwspdi   weather_lat   weather_lon\n",
        "count  4.264900e+04  4.264900e+04     42649.000000   42649.000000  42649.000000  42649.000000  42649.000000  42649.000000  42649.000000  42649.000000  42649.000000  42649.000000  42649.000000  42649.000000  42649.000000  42649.000000   42649.000000  42649.000000  42649.000000  42649.000000  42649.000000\n",
        "mean   2.812486e+07  1.986993e+07      1886.589955    1361.487866     10.046754      2.905719      0.714436     40.724647    -73.940364      0.009824      0.004618     29.971096      0.224741     63.103780      6.927872      0.004618      29.971096     63.103780      6.927872     40.728555    -73.938693\n",
        "std    3.043607e+07  2.028986e+07      2952.385585    2183.845409      6.938928      2.079231      0.451688      0.071650      0.059713      0.098631      0.025832      0.137942      0.417417      8.455597      4.510178      0.016344       0.131158      6.939011      3.179832      0.065420      0.059582\n",
        "min    0.000000e+00  0.000000e+00         0.000000       0.000000      0.000000      0.000000      0.000000     40.576152    -74.073622      0.000000      0.000000     29.550000      0.000000     46.900000      0.000000      0.000000      29.590000     49.400000      0.000000     40.600204    -74.014870\n",
        "25%    1.039762e+07  7.613712e+06       274.000000     237.000000      4.000000      1.000000      0.000000     40.677107    -73.987342      0.000000      0.000000     29.890000      0.000000     57.000000      4.600000      0.000000      29.913333     58.283333      4.816667     40.688591    -73.985130\n",
        "50%    1.818389e+07  1.331609e+07       905.000000     664.000000     12.000000      3.000000      1.000000     40.717241    -73.953459      0.000000      0.000000     29.960000      0.000000     61.000000      6.900000      0.000000      29.958000     60.950000      6.166667     40.720570    -73.949150\n",
        "75%    3.263049e+07  2.393771e+07      2255.000000    1537.000000     16.000000      5.000000      1.000000     40.759123    -73.907733      0.000000      0.000000     30.060000      0.000000     69.100000      9.200000      0.000000      30.060000     67.466667      8.850000     40.755226    -73.912033\n",
        "max    2.357746e+08  1.493782e+08     32814.000000   34828.000000     20.000000      6.000000      1.000000     40.889185    -73.755383      1.000000      0.300000     30.320000      1.000000     86.000000     23.000000      0.157500      30.293333     79.800000     17.083333     40.862064    -73.694176"
       ]
      }
     ],
     "prompt_number": 10
    },
    {
     "cell_type": "code",
     "collapsed": false,
     "input": [
      "#min date in the dataset\n",
      "min_date= df['DATEn'].min()\n",
      "#max date in the dataset\n",
      "max_date= df['DATEn'].max()\n",
      "\"The dataset is covering from %s to %s\" %(min_date,max_date) \n"
     ],
     "language": "python",
     "metadata": {},
     "outputs": [
      {
       "metadata": {},
       "output_type": "pyout",
       "prompt_number": 11,
       "text": [
        "'The dataset is covering from 05-01-11 to 05-31-11'"
       ]
      }
     ],
     "prompt_number": 11
    },
    {
     "cell_type": "markdown",
     "metadata": {},
     "source": [
      "The data set is only about May 2011."
     ]
    },
    {
     "cell_type": "heading",
     "level": 2,
     "metadata": {},
     "source": [
      "Is the average NYC Subway Ridership statistically different on rainy days vs non-rainy days?"
     ]
    },
    {
     "cell_type": "code",
     "collapsed": false,
     "input": [
      "rain= df[df.rain == 1]\n",
      "no_rain= df[df.rain == 0]\n",
      "\n",
      "#PLOT\n",
      "plt.figure(figsize = (10,5))\n",
      "plt.xlabel('ENTRIESn_hourly', fontsize=14)\n",
      "plt.ylabel('Occurance', fontsize=14)\n",
      "plt.legend(loc='upper right', fontsize=18)\n",
      "plt.title('ENTRIESn_hourly in Rainy/No Rainy days',fontsize=18)\n",
      "\n",
      "\n",
      "plt.hist(rain['ENTRIESn_hourly'].values,bins=50,alpha=0.5,label='Rainy')\n",
      "plt.hist(no_rain['ENTRIESn_hourly'].values,bins=50,alpha=0.5,label='No Rainy')"
     ],
     "language": "python",
     "metadata": {},
     "outputs": [
      {
       "metadata": {},
       "output_type": "pyout",
       "prompt_number": 35,
       "text": [
        "(array([  1.38510000e+04,   6.33200000e+03,   3.66300000e+03,\n",
        "          2.36200000e+03,   1.72000000e+03,   1.10500000e+03,\n",
        "          8.45000000e+02,   6.60000000e+02,   4.56000000e+02,\n",
        "          3.53000000e+02,   2.37000000e+02,   2.35000000e+02,\n",
        "          1.26000000e+02,   1.02000000e+02,   1.21000000e+02,\n",
        "          1.29000000e+02,   1.45000000e+02,   8.70000000e+01,\n",
        "          6.00000000e+01,   4.50000000e+01,   3.50000000e+01,\n",
        "          4.20000000e+01,   3.40000000e+01,   3.70000000e+01,\n",
        "          2.40000000e+01,   2.50000000e+01,   3.30000000e+01,\n",
        "          3.10000000e+01,   2.30000000e+01,   1.70000000e+01,\n",
        "          1.70000000e+01,   1.20000000e+01,   1.00000000e+01,\n",
        "          4.00000000e+00,   9.00000000e+00,   6.00000000e+00,\n",
        "          6.00000000e+00,   9.00000000e+00,   4.00000000e+00,\n",
        "          5.00000000e+00,   5.00000000e+00,   6.00000000e+00,\n",
        "          7.00000000e+00,   5.00000000e+00,   5.00000000e+00,\n",
        "          7.00000000e+00,   5.00000000e+00,   6.00000000e+00,\n",
        "          0.00000000e+00,   1.00000000e+00]),\n",
        " array([     0.  ,    656.28,   1312.56,   1968.84,   2625.12,   3281.4 ,\n",
        "          3937.68,   4593.96,   5250.24,   5906.52,   6562.8 ,   7219.08,\n",
        "          7875.36,   8531.64,   9187.92,   9844.2 ,  10500.48,  11156.76,\n",
        "         11813.04,  12469.32,  13125.6 ,  13781.88,  14438.16,  15094.44,\n",
        "         15750.72,  16407.  ,  17063.28,  17719.56,  18375.84,  19032.12,\n",
        "         19688.4 ,  20344.68,  21000.96,  21657.24,  22313.52,  22969.8 ,\n",
        "         23626.08,  24282.36,  24938.64,  25594.92,  26251.2 ,  26907.48,\n",
        "         27563.76,  28220.04,  28876.32,  29532.6 ,  30188.88,  30845.16,\n",
        "         31501.44,  32157.72,  32814.  ]),\n",
        " <a list of 50 Patch objects>)"
       ]
      },
      {
       "metadata": {},
       "output_type": "display_data",
       "png": "[encoded data removed]",
       "text": [
        "<matplotlib.figure.Figure at 0x11309e050>"
       ]
      }
     ],
     "prompt_number": 35
    },
    {
     "cell_type": "heading",
     "level": 3,
     "metadata": {},
     "source": [
      "Section 1. Statistical Test"
     ]
    },
    {
     "cell_type": "heading",
     "level": 4,
     "metadata": {},
     "source": [
      "1.1 Which statistical test did you use to analyze the NYC subway data? \n",
      "\n"
     ]
    },
    {
     "cell_type": "heading",
     "level": 4,
     "metadata": {},
     "source": [
      "Did you use a one-tail or a two-tail P value? \n",
      "\n",
      "\n"
     ]
    },
    {
     "cell_type": "heading",
     "level": 4,
     "metadata": {},
     "source": [
      "What is the null hypothesis? What is your p-critical value? "
     ]
    },
    {
     "cell_type": "heading",
     "level": 4,
     "metadata": {},
     "source": [
      "1.2 Why is this statistical test applicable to the dataset? \n"
     ]
    },
    {
     "cell_type": "heading",
     "level": 4,
     "metadata": {},
     "source": [
      "In particular, consider the assumptions that the test is making about the distribution of ridership in the two samples."
     ]
    },
    {
     "cell_type": "markdown",
     "metadata": {},
     "source": [
      "From the chart below we can see that the two distributions (rainy and non-rainy days) are not normally distributed but because there is a long tail in the positive direction on the number line, the distribution is said to be **positively skewed** (right-skewed distribution).\n",
      "\n",
      "It's NOT possible to run **Welch's T-Test** on entry data because they are not normally distributed.\n",
      "\n",
      "From Wikipedia: in statistics, Welch's t-test (or Welch-Aspin Test) is a two-sample location test, and is used to check the hypothesis that two populations have equal means. Welch's t-test is an adaptation of Student's t-test, and is intended for use when the two samples have possibly unequal variances.[1] These tests are often referred to as \"unpaired\" or \"independent samples\" t-tests, as they are typically applied when the statistical units underlying the two samples being compared are non-overlapping.\n",
      "\n",
      "Instead we used the **Mann-Whitney U test** to compare the means of rainy and non rainy days because the distributions are not normally distributed.\n",
      "\n",
      "From Wikipedia: In statistics, the Mann\u2013Whitney U test (also called the Mann\u2013Whitney\u2013Wilcoxon (MWW), Wilcoxon rank-sum test (WRS), or Wilcoxon\u2013Mann\u2013Whitney test) is a nonparametric test of the null hypothesis that two populations are the same against an alternative hypothesis, especially that a particular population tends to have larger values than the other. It has greater efficiency than the t-test on non-normal distributions, such as a mixture of normal distributions, and it is nearly as efficient as the t-test on normal distributions.\n",
      "\n",
      "We used a two-tail test because we were testing for the possibility of the relationship in both directions \n",
      "\n",
      "**Null Hypothesis**:  If you are comparing two means, the null hypothesis is that the two populations have the same mean (that the treatment has no effect)\n",
      "In our case here ridership on rainy and non-rainy days have the same mean.\n",
      "\n",
      "\n",
      "**Alternative Hypothesis:** There is a statistically significant difference in average ridership on rainy vs non-rainy days.\n",
      "\n",
      "\n"
     ]
    },
    {
     "cell_type": "heading",
     "level": 4,
     "metadata": {},
     "source": [
      "Mann-Whitney U-Test"
     ]
    },
    {
     "cell_type": "markdown",
     "metadata": {},
     "source": [
      "Below are displayed:\n",
      "\n",
      "1) the mean of entries with rain\n",
      "\n",
      "2) the mean of entries without rain\n",
      "\n",
      "3) the Mann-Whitney U-statistic and p-value comparing the number of entries with rain and the number of entries without rain\n",
      "Here are the functions' documentation:\n",
      "\n",
      "    http://docs.scipy.org/doc/scipy/reference/generated/scipy.stats.mannwhitneyu.html\n",
      "    http://docs.scipy.org/doc/numpy/reference/generated/numpy.mean.html"
     ]
    },
    {
     "cell_type": "code",
     "collapsed": false,
     "input": [
      "with_rain_mean= np.mean(rain.ENTRIESn_hourly)\n",
      "without_rain_mean = np.mean(no_rain.ENTRIESn_hourly)\n",
      "U, p =  ss.stats.mannwhitneyu(rain.ENTRIESn_hourly, no_rain.ENTRIESn_hourly) \n",
      "print \"Mean with rain: {}\\n\".format(with_rain_mean)\n",
      "print \"Mean without rain: {}\\n\".format(without_rain_mean)\n",
      "print \"U-statistic: {}\".format(U)\n",
      "print \"p-value: {}\".format(p)\n"
     ],
     "language": "python",
     "metadata": {},
     "outputs": [
      {
       "output_type": "stream",
       "stream": "stdout",
       "text": [
        "Mean with rain: 2028.19603547\n",
        "\n",
        "Mean without rain: 1845.53943866\n",
        "\n",
        "U-statistic: 153635120.5\n",
        "p-value: 2.74106957124e-06\n"
       ]
      }
     ],
     "prompt_number": 50
    },
    {
     "cell_type": "code",
     "collapsed": false,
     "input": [],
     "language": "python",
     "metadata": {},
     "outputs": []
    }
   ],
   "metadata": {}
  }
 ]
}